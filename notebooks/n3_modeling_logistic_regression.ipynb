{
 "cells": [
  {
   "cell_type": "markdown",
   "metadata": {},
   "source": [
    "## Deploy Logistic Regression model using SageMaker\n",
    "boto3 - \n",
    "The AWS SDK for Python (Boto3) provides a Python API for AWS infrastructure services. Using the SDK for Python, you can build applications on top of Amazon S3, Amazon EC2, Amazon DynamoDB, and more."
   ]
  },
  {
   "cell_type": "code",
   "execution_count": 10,
   "metadata": {},
   "outputs": [],
   "source": [
    "import sagemaker\n",
    "from sklearn.model_selection import train_test_split\n",
    "import  pandas as pd\n",
    "import boto3"
   ]
  },
  {
   "cell_type": "code",
   "execution_count": 11,
   "metadata": {},
   "outputs": [],
   "source": [
    "sm_boto3 = boto3.client('sagemaker')\n",
    "sess = sagemaker.Session()\n",
    "region = sess.boto_session.region_name\n",
    "\n",
    "# get the unique name of s3 bucket\n",
    "bucket = 'aws-sagemaker-fraud-detection-s3'\n"
   ]
  },
  {
   "cell_type": "code",
   "execution_count": 16,
   "metadata": {},
   "outputs": [
    {
     "name": "stdout",
     "output_type": "stream",
     "text": [
      "s3://aws-sagemaker-fraud-detection-s3/sagemaker/fraud_detection/data/train.csv\n",
      "s3://aws-sagemaker-fraud-detection-s3/sagemaker/fraud_detection/data/test.csv\n"
     ]
    }
   ],
   "source": [
    "# publish/upload the data in S3\n",
    "dataset_path_in_s3 = 'sagemaker/fraud_detection/data'\n",
    "\n",
    "train_data_path = sess.upload_data(\n",
    "     path='../data/train.csv', bucket=bucket, key_prefix=dataset_path_in_s3\n",
    ")\n",
    "\n",
    "test_data_path = sess.upload_data(\n",
    "     path='../data/test.csv', bucket=bucket, key_prefix=dataset_path_in_s3\n",
    ")\n",
    "print(train_data_path)\n",
    "print(test_data_path)"
   ]
  },
  {
   "cell_type": "markdown",
   "metadata": {},
   "source": [
    "### Issue in the following code\n",
    "The error message ModuleNotFoundError: No module named 's3fs' indicates that the Python package s3fs is not installed in your environment. This package is necessary for accessing S3 buckets using pandas, as it enables reading and writing files from S3 in a way that is compatible with pandas' read_csv function.\n",
    "Solution:\n",
    "pip install s3fs"
   ]
  },
  {
   "cell_type": "code",
   "execution_count": 8,
   "metadata": {},
   "outputs": [],
   "source": [
    "from sagemaker import get_execution_role\n",
    "from sklearn.preprocessing import StandardScaler\n",
    "import pandas as pd\n",
    "\n",
    "# link to the data\n",
    "train_s3_data = 's3://aws-sagemaker-fraud-detection-s3/sagemaker/fraud_detection/data/train.csv'\n",
    "test_s3_data = 's3://aws-sagemaker-fraud-detection-s3/sagemaker/fraud_detection/data/test.csv'\n",
    "\n",
    "# Load your data (from S3, you can use pandas or directly split it)\n",
    "# df_train = pd.read_csv(train_data_path)\n",
    "# df_test = pd.read_csv(test_data_path)\n",
    "df_train = pd.read_csv(train_s3_data)\n",
    "df_test = pd.read_csv(test_s3_data)\n",
    "\n",
    "X_train, y_train = df_train.drop(columns=['is_fraud']), df_train['is_fraud']\n",
    "X_test, y_test = df_test.drop(columns=['is_fraud']), df_test['is_fraud']\n"
   ]
  },
  {
   "cell_type": "markdown",
   "metadata": {},
   "source": [
    "### Create a Training Script for Logistic Regression\n",
    "SageMaker allows you to provide a custom training script using its Script Mode. You can save the following code as train_logistic_regression.py in your local directory.\n",
    "I have created a python script file in src by the name of sagemaker_logistic_regression.py"
   ]
  },
  {
   "cell_type": "markdown",
   "metadata": {},
   "source": [
    "### Create a SageMaker Estimator to Train the Model\n",
    "Now, use the Estimator to initiate training on AWS SageMaker."
   ]
  },
  {
   "cell_type": "code",
   "execution_count": 13,
   "metadata": {},
   "outputs": [],
   "source": [
    "# Get execution role\n",
    "# get_execution_role() only work in sagemaker studio not out of it\n",
    "# role = get_execution_role()\n",
    "# Manually Finding the Role in IAM: If get_execution_role() doesn’t work for your environment, you can find the role manually:\n",
    "# Go to the IAM section in the AWS Console.\n",
    "# Click on Roles on the left sidebar.\n",
    "# Find or search for the role that has the required permissions for SageMaker.\n",
    "# Copy the ARN of that role.\n",
    "# Example of an ARN for a role:\n",
    "# Account ID (IAM user): 145023122385\n",
    "# role = 'arn:aws:iam::145023122385:role/aws-sagemaker-practitioner'\n",
    "role = 'arn:aws:iam::145023122385:role/aws-sagemaker-practitioner'\n",
    "# Make sure this role has the necessary permissions (SageMaker, S3, etc.)."
   ]
  },
  {
   "cell_type": "code",
   "execution_count": 30,
   "metadata": {},
   "outputs": [
    {
     "data": {
      "text/html": [
       "<div>\n",
       "<style scoped>\n",
       "    .dataframe tbody tr th:only-of-type {\n",
       "        vertical-align: middle;\n",
       "    }\n",
       "\n",
       "    .dataframe tbody tr th {\n",
       "        vertical-align: top;\n",
       "    }\n",
       "\n",
       "    .dataframe thead th {\n",
       "        text-align: right;\n",
       "    }\n",
       "</style>\n",
       "<table border=\"1\" class=\"dataframe\">\n",
       "  <thead>\n",
       "    <tr style=\"text-align: right;\">\n",
       "      <th></th>\n",
       "      <th>cc_num</th>\n",
       "      <th>merchant</th>\n",
       "      <th>category</th>\n",
       "      <th>amt</th>\n",
       "      <th>gender</th>\n",
       "      <th>zip</th>\n",
       "      <th>lat</th>\n",
       "      <th>long</th>\n",
       "      <th>city_pop</th>\n",
       "      <th>job</th>\n",
       "      <th>unix_time</th>\n",
       "      <th>merch_lat</th>\n",
       "      <th>merch_long</th>\n",
       "      <th>is_fraud</th>\n",
       "    </tr>\n",
       "  </thead>\n",
       "  <tbody>\n",
       "    <tr>\n",
       "      <th>0</th>\n",
       "      <td>6011382886333463</td>\n",
       "      <td>644</td>\n",
       "      <td>0</td>\n",
       "      <td>-0.326279</td>\n",
       "      <td>1</td>\n",
       "      <td>-0.007694</td>\n",
       "      <td>1.196690</td>\n",
       "      <td>0.432759</td>\n",
       "      <td>-0.290814</td>\n",
       "      <td>201</td>\n",
       "      <td>1378557464</td>\n",
       "      <td>43.727750</td>\n",
       "      <td>-85.046376</td>\n",
       "      <td>0</td>\n",
       "    </tr>\n",
       "    <tr>\n",
       "      <th>1</th>\n",
       "      <td>370877495212014</td>\n",
       "      <td>87</td>\n",
       "      <td>4</td>\n",
       "      <td>0.785585</td>\n",
       "      <td>0</td>\n",
       "      <td>-0.751571</td>\n",
       "      <td>-0.462636</td>\n",
       "      <td>0.663378</td>\n",
       "      <td>-0.223335</td>\n",
       "      <td>126</td>\n",
       "      <td>1384774507</td>\n",
       "      <td>36.851523</td>\n",
       "      <td>-80.202303</td>\n",
       "      <td>0</td>\n",
       "    </tr>\n",
       "    <tr>\n",
       "      <th>2</th>\n",
       "      <td>3566373869538620</td>\n",
       "      <td>103</td>\n",
       "      <td>2</td>\n",
       "      <td>-0.162638</td>\n",
       "      <td>1</td>\n",
       "      <td>1.440961</td>\n",
       "      <td>-0.614888</td>\n",
       "      <td>-1.144865</td>\n",
       "      <td>-0.290618</td>\n",
       "      <td>366</td>\n",
       "      <td>1380454669</td>\n",
       "      <td>34.765582</td>\n",
       "      <td>-106.874102</td>\n",
       "      <td>0</td>\n",
       "    </tr>\n",
       "    <tr>\n",
       "      <th>3</th>\n",
       "      <td>6517217825320610</td>\n",
       "      <td>475</td>\n",
       "      <td>8</td>\n",
       "      <td>-0.434735</td>\n",
       "      <td>1</td>\n",
       "      <td>-0.341744</td>\n",
       "      <td>-1.362873</td>\n",
       "      <td>0.003733</td>\n",
       "      <td>-0.289709</td>\n",
       "      <td>258</td>\n",
       "      <td>1380431862</td>\n",
       "      <td>30.818746</td>\n",
       "      <td>-90.609324</td>\n",
       "      <td>0</td>\n",
       "    </tr>\n",
       "    <tr>\n",
       "      <th>4</th>\n",
       "      <td>213125815021702</td>\n",
       "      <td>75</td>\n",
       "      <td>13</td>\n",
       "      <td>-0.378975</td>\n",
       "      <td>1</td>\n",
       "      <td>-1.356629</td>\n",
       "      <td>0.697593</td>\n",
       "      <td>1.149876</td>\n",
       "      <td>-0.292369</td>\n",
       "      <td>356</td>\n",
       "      <td>1388422195</td>\n",
       "      <td>42.311107</td>\n",
       "      <td>-74.938746</td>\n",
       "      <td>0</td>\n",
       "    </tr>\n",
       "  </tbody>\n",
       "</table>\n",
       "</div>"
      ],
      "text/plain": [
       "             cc_num  merchant  category  ...  merch_lat  merch_long  is_fraud\n",
       "0  6011382886333463       644         0  ...  43.727750  -85.046376         0\n",
       "1   370877495212014        87         4  ...  36.851523  -80.202303         0\n",
       "2  3566373869538620       103         2  ...  34.765582 -106.874102         0\n",
       "3  6517217825320610       475         8  ...  30.818746  -90.609324         0\n",
       "4   213125815021702        75        13  ...  42.311107  -74.938746         0\n",
       "\n",
       "[5 rows x 14 columns]"
      ]
     },
     "execution_count": 30,
     "metadata": {},
     "output_type": "execute_result"
    }
   ],
   "source": [
    "pd.read_csv(train_data_path).head()"
   ]
  },
  {
   "cell_type": "code",
   "execution_count": 15,
   "metadata": {},
   "outputs": [],
   "source": [
    "from sagemaker.sklearn.estimator import SKLearn\n",
    "\n",
    "# Define the SKLearn estimator\n",
    "sklearn_estimator = SKLearn(\n",
    "    entry_point=\"../src/sagemaker_logistic_regression.py\",  # Path to your script\n",
    "    role=role,\n",
    "    instance_type=\"ml.m5.large\",\n",
    "    instance_count=1,\n",
    "    framework_version=\"0.23-1\",  # Version of sklearn used\n",
    "    base_job_name=\"logistic-regrsion-sklearn-custom\"\n",
    "    # we can also pass the custom parameters as well\n",
    "    # hyperparamters={\n",
    "    #     'n_estimators': 100,\n",
    "    #     'random_state': 0\n",
    "    # }\n",
    "    # py_version=\"py3\",\n",
    "    # output_path=f\"s3://{bucket}/sagemaker/fraud_detection/output\"\n",
    "    # use_spot_instances=True,\n",
    "    # max_wait=7200,\n",
    "    # max_run=3600\n",
    ")\n",
    "\n"
   ]
  },
  {
   "cell_type": "code",
   "execution_count": 18,
   "metadata": {},
   "outputs": [
    {
     "name": "stderr",
     "output_type": "stream",
     "text": [
      "INFO:sagemaker:Creating training-job with name: logistic-regrsion-sklearn-custom-2024-10-24-20-04-51-519\n"
     ]
    },
    {
     "name": "stdout",
     "output_type": "stream",
     "text": [
      "2024-10-24 20:01:41 Starting - Starting the training job......\n",
      "2024-10-24 20:02:48 Downloading - Downloading input data...\n",
      "2024-10-24 20:03:14 Downloading - Downloading the training image......\n",
      "2024-10-24 20:04:10 Training - Training image download completed. Training in progress.\n",
      "2024-10-24 20:04:10 Uploading - Uploading generated training model2024-10-24 20:04:04,917 sagemaker-containers INFO     Imported framework sagemaker_sklearn_container.training\n",
      "2024-10-24 20:04:04,920 sagemaker-training-toolkit INFO     No GPUs detected (normal if no gpus installed)\n",
      "2024-10-24 20:04:04,960 sagemaker_sklearn_container.training INFO     Invoking user training script.\n",
      "2024-10-24 20:04:05,124 sagemaker-training-toolkit INFO     No GPUs detected (normal if no gpus installed)\n",
      "2024-10-24 20:04:05,136 sagemaker-training-toolkit INFO     No GPUs detected (normal if no gpus installed)\n",
      "2024-10-24 20:04:05,152 sagemaker-training-toolkit INFO     No GPUs detected (normal if no gpus installed)\n",
      "2024-10-24 20:04:05,162 sagemaker-training-toolkit INFO     Invoking user script\n",
      "Training Env:\n",
      "{\n",
      "    \"additional_framework_parameters\": {},\n",
      "    \"channel_input_dirs\": {\n",
      "        \"test\": \"/opt/ml/input/data/test\",\n",
      "        \"train\": \"/opt/ml/input/data/train\"\n",
      "    },\n",
      "    \"current_host\": \"algo-1\",\n",
      "    \"framework_module\": \"sagemaker_sklearn_container.training:main\",\n",
      "    \"hosts\": [\n",
      "        \"algo-1\"\n",
      "    ],\n",
      "    \"hyperparameters\": {},\n",
      "    \"input_config_dir\": \"/opt/ml/input/config\",\n",
      "    \"input_data_config\": {\n",
      "        \"test\": {\n",
      "            \"TrainingInputMode\": \"File\",\n",
      "            \"S3DistributionType\": \"FullyReplicated\",\n",
      "            \"RecordWrapperType\": \"None\"\n",
      "        },\n",
      "        \"train\": {\n",
      "            \"TrainingInputMode\": \"File\",\n",
      "            \"S3DistributionType\": \"FullyReplicated\",\n",
      "            \"RecordWrapperType\": \"None\"\n",
      "        }\n",
      "    },\n",
      "    \"input_dir\": \"/opt/ml/input\",\n",
      "    \"is_master\": true,\n",
      "    \"job_name\": \"logistic-regrsion-sklearn-custom-2024-10-24-20-04-51-519\",\n",
      "    \"log_level\": 20,\n",
      "    \"master_hostname\": \"algo-1\",\n",
      "    \"model_dir\": \"/opt/ml/model\",\n",
      "    \"module_dir\": \"s3://sagemaker-eu-north-1-145023122385/logistic-regrsion-sklearn-custom-2024-10-24-20-04-51-519/source/sourcedir.tar.gz\",\n",
      "    \"module_name\": \"sagemaker_logistic_regression\",\n",
      "    \"network_interface_name\": \"eth0\",\n",
      "    \"num_cpus\": 2,\n",
      "    \"num_gpus\": 0,\n",
      "    \"output_data_dir\": \"/opt/ml/output/data\",\n",
      "    \"output_dir\": \"/opt/ml/output\",\n",
      "    \"output_intermediate_dir\": \"/opt/ml/output/intermediate\",\n",
      "    \"resource_config\": {\n",
      "        \"current_host\": \"algo-1\",\n",
      "        \"current_instance_type\": \"ml.m5.large\",\n",
      "        \"current_group_name\": \"homogeneousCluster\",\n",
      "        \"hosts\": [\n",
      "            \"algo-1\"\n",
      "        ],\n",
      "        \"instance_groups\": [\n",
      "            {\n",
      "                \"instance_group_name\": \"homogeneousCluster\",\n",
      "                \"instance_type\": \"ml.m5.large\",\n",
      "                \"hosts\": [\n",
      "                    \"algo-1\"\n",
      "                ]\n",
      "            }\n",
      "        ],\n",
      "        \"network_interface_name\": \"eth0\"\n",
      "    },\n",
      "    \"user_entry_point\": \"sagemaker_logistic_regression.py\"\n",
      "}\n",
      "Environment variables:\n",
      "SM_HOSTS=[\"algo-1\"]\n",
      "SM_NETWORK_INTERFACE_NAME=eth0\n",
      "SM_HPS={}\n",
      "SM_USER_ENTRY_POINT=sagemaker_logistic_regression.py\n",
      "SM_FRAMEWORK_PARAMS={}\n",
      "SM_RESOURCE_CONFIG={\"current_group_name\":\"homogeneousCluster\",\"current_host\":\"algo-1\",\"current_instance_type\":\"ml.m5.large\",\"hosts\":[\"algo-1\"],\"instance_groups\":[{\"hosts\":[\"algo-1\"],\"instance_group_name\":\"homogeneousCluster\",\"instance_type\":\"ml.m5.large\"}],\"network_interface_name\":\"eth0\"}\n",
      "SM_INPUT_DATA_CONFIG={\"test\":{\"RecordWrapperType\":\"None\",\"S3DistributionType\":\"FullyReplicated\",\"TrainingInputMode\":\"File\"},\"train\":{\"RecordWrapperType\":\"None\",\"S3DistributionType\":\"FullyReplicated\",\"TrainingInputMode\":\"File\"}}\n",
      "SM_OUTPUT_DATA_DIR=/opt/ml/output/data\n",
      "SM_CHANNELS=[\"test\",\"train\"]\n",
      "SM_CURRENT_HOST=algo-1\n",
      "SM_MODULE_NAME=sagemaker_logistic_regression\n",
      "SM_LOG_LEVEL=20\n",
      "SM_FRAMEWORK_MODULE=sagemaker_sklearn_container.training:main\n",
      "SM_INPUT_DIR=/opt/ml/input\n",
      "SM_INPUT_CONFIG_DIR=/opt/ml/input/config\n",
      "SM_OUTPUT_DIR=/opt/ml/output\n",
      "SM_NUM_CPUS=2\n",
      "SM_NUM_GPUS=0\n",
      "SM_MODEL_DIR=/opt/ml/model\n",
      "SM_MODULE_DIR=s3://sagemaker-eu-north-1-145023122385/logistic-regrsion-sklearn-custom-2024-10-24-20-04-51-519/source/sourcedir.tar.gz\n",
      "SM_TRAINING_ENV={\"additional_framework_parameters\":{},\"channel_input_dirs\":{\"test\":\"/opt/ml/input/data/test\",\"train\":\"/opt/ml/input/data/train\"},\"current_host\":\"algo-1\",\"framework_module\":\"sagemaker_sklearn_container.training:main\",\"hosts\":[\"algo-1\"],\"hyperparameters\":{},\"input_config_dir\":\"/opt/ml/input/config\",\"input_data_config\":{\"test\":{\"RecordWrapperType\":\"None\",\"S3DistributionType\":\"FullyReplicated\",\"TrainingInputMode\":\"File\"},\"train\":{\"RecordWrapperType\":\"None\",\"S3DistributionType\":\"FullyReplicated\",\"TrainingInputMode\":\"File\"}},\"input_dir\":\"/opt/ml/input\",\"is_master\":true,\"job_name\":\"logistic-regrsion-sklearn-custom-2024-10-24-20-04-51-519\",\"log_level\":20,\"master_hostname\":\"algo-1\",\"model_dir\":\"/opt/ml/model\",\"module_dir\":\"s3://sagemaker-eu-north-1-145023122385/logistic-regrsion-sklearn-custom-2024-10-24-20-04-51-519/source/sourcedir.tar.gz\",\"module_name\":\"sagemaker_logistic_regression\",\"network_interface_name\":\"eth0\",\"num_cpus\":2,\"num_gpus\":0,\"output_data_dir\":\"/opt/ml/output/data\",\"output_dir\":\"/opt/ml/output\",\"output_intermediate_dir\":\"/opt/ml/output/intermediate\",\"resource_config\":{\"current_group_name\":\"homogeneousCluster\",\"current_host\":\"algo-1\",\"current_instance_type\":\"ml.m5.large\",\"hosts\":[\"algo-1\"],\"instance_groups\":[{\"hosts\":[\"algo-1\"],\"instance_group_name\":\"homogeneousCluster\",\"instance_type\":\"ml.m5.large\"}],\"network_interface_name\":\"eth0\"},\"user_entry_point\":\"sagemaker_logistic_regression.py\"}\n",
      "SM_USER_ARGS=[]\n",
      "SM_OUTPUT_INTERMEDIATE_DIR=/opt/ml/output/intermediate\n",
      "SM_CHANNEL_TEST=/opt/ml/input/data/test\n",
      "SM_CHANNEL_TRAIN=/opt/ml/input/data/train\n",
      "PYTHONPATH=/opt/ml/code:/miniconda3/bin:/miniconda3/lib/python37.zip:/miniconda3/lib/python3.7:/miniconda3/lib/python3.7/lib-dynload:/miniconda3/lib/python3.7/site-packages\n",
      "Invoking script with the following command:\n",
      "/miniconda3/bin/python sagemaker_logistic_regression.py\n",
      "Training data path: /opt/ml/input/data/train/train.csv\n",
      "Training data loaded successfully with shape: (444575, 14)\n",
      "Training model...\n",
      "/miniconda3/lib/python3.7/site-packages/sklearn/linear_model/_logistic.py:764: ConvergenceWarning: lbfgs failed to converge (status=2):\n",
      "ABNORMAL_TERMINATION_IN_LNSRCH.\n",
      "Increase the number of iterations (max_iter) or scale the data as shown in:\n",
      "    https://scikit-learn.org/stable/modules/preprocessing.html\n",
      "Please also refer to the documentation for alternative solver options:\n",
      "    https://scikit-learn.org/stable/modules/linear_model.html#logistic-regression\n",
      "  extra_warning_msg=_LOGISTIC_SOLVER_CONVERGENCE_MSG)\n",
      "Saving model...\n",
      "Model saved successfully!\n",
      "2024-10-24 20:04:08,189 sagemaker-containers INFO     Reporting training SUCCESS\n",
      "\n",
      "2024-10-24 20:04:23 Completed - Training job completed\n",
      "Training seconds: 95\n",
      "Billable seconds: 95\n"
     ]
    }
   ],
   "source": [
    "# Start the training job\n",
    "sklearn_estimator.fit({'train': train_data_path, 'test': test_data_path})\n",
    "# sklearn_estimator.fit({'train': train_data_path}, wait=True)"
   ]
  },
  {
   "cell_type": "code",
   "execution_count": 20,
   "metadata": {},
   "outputs": [
    {
     "name": "stdout",
     "output_type": "stream",
     "text": [
      "\n",
      "2024-10-24 20:04:23 Starting - Preparing the instances for training\n",
      "2024-10-24 20:04:23 Downloading - Downloading the training image\n",
      "2024-10-24 20:04:23 Training - Training image download completed. Training in progress.\n",
      "2024-10-24 20:04:23 Uploading - Uploading generated training model\n",
      "2024-10-24 20:04:23 Completed - Training job completed\n",
      "Model Artifacts Value\n",
      "s3://sagemaker-eu-north-1-145023122385/logistic-regrsion-sklearn-custom-2024-10-24-20-04-51-519/output/model.tar.gz\n"
     ]
    }
   ],
   "source": [
    "sklearn_estimator.latest_training_job.wait(logs=\"None\")\n",
    "artifact = sm_boto3.describe_training_job(\n",
    "     TrainingJobName=sklearn_estimator.latest_training_job.name\n",
    ")['ModelArtifacts']['S3ModelArtifacts']\n",
    "\n",
    "print('Model Artifacts Value')\n",
    "print(artifact)\n",
    "# the name and the location of the model"
   ]
  },
  {
   "cell_type": "code",
   "execution_count": 21,
   "metadata": {},
   "outputs": [],
   "source": [
    "from sagemaker.sklearn.model import SKLearnModel\n",
    "from time import gmtime, strftime\n",
    "\n",
    "model_name = \"logistic-regression-sklearn-model-\" + strftime(\"%Y-%m-%d-%H-%M-%S\", gmtime())\n",
    "model = SKLearnModel(\n",
    "    name =  model_name,\n",
    "    model_data=artifact,\n",
    "    role=role,\n",
    "    entry_point=\"../src/sagemaker_logistic_regression.py\",\n",
    "    framework_version=\"0.23-1\",\n",
    ")"
   ]
  },
  {
   "cell_type": "code",
   "execution_count": 22,
   "metadata": {},
   "outputs": [
    {
     "data": {
      "text/plain": [
       "<sagemaker.sklearn.model.SKLearnModel at 0x13f1e77f0>"
      ]
     },
     "execution_count": 22,
     "metadata": {},
     "output_type": "execute_result"
    }
   ],
   "source": [
    "model"
   ]
  },
  {
   "cell_type": "markdown",
   "metadata": {},
   "source": [
    "### Deploy the Model\n",
    "Once the model is trained, you can deploy it to a real-time endpoint"
   ]
  },
  {
   "cell_type": "code",
   "execution_count": 28,
   "metadata": {},
   "outputs": [
    {
     "name": "stdout",
     "output_type": "stream",
     "text": [
      "\n",
      "INFO:sagemaker:Creating model with name: logistic-regression-sklearn-model-2024-10-24-21-30-17\n",
      "WARNING:sagemaker:Using already existing model: logistic-regression-sklearn-model-2024-10-24-21-30-17\n",
      "INFO:sagemaker:Creating endpoint-config with name logistic-regression-sklearn-model-2024-10-24-22-15-11\n",
      "INFO:sagemaker:Creating endpoint with name logistic-regression-sklearn-model-2024-10-24-22-15-11\n",
      "      \n"
     ]
    }
   ],
   "source": [
    "# Deploy the model to an endpoint\n",
    "# you can see that model_endpoint is the same as model name\n",
    "model_endpoint = \"logistic-regression-sklearn-model-\" + strftime(\"%Y-%m-%d-%H-%M-%S\", gmtime())\n",
    "predictor = model.deploy(\n",
    "    initial_instance_count=1,\n",
    "    instance_type=\"ml.m5.xlarge\",\n",
    "    endpoint_name=model_endpoint\n",
    ")\n"
   ]
  },
  {
   "cell_type": "markdown",
   "metadata": {},
   "source": [
    "### Make Predictions using the Deployed Model\n",
    "After deploying the model, you can use the endpoint to make predictions on new data."
   ]
  },
  {
   "cell_type": "code",
   "execution_count": null,
   "metadata": {},
   "outputs": [],
   "source": [
    "import numpy as np\n",
    "\n",
    "# Send the test data to the deployed model for predictions\n",
    "# prediction only on first two values\n",
    "predictions = predictor.predict(X_test[0:2].values)\n",
    "print(predictions)\n"
   ]
  },
  {
   "cell_type": "markdown",
   "metadata": {},
   "source": [
    "### Clean up Resources\n",
    "Once done, it is a good practice to delete the endpoint to avoid ongoing charges."
   ]
  },
  {
   "cell_type": "code",
   "execution_count": 31,
   "metadata": {},
   "outputs": [],
   "source": [
    "# predictor.delete_endpoint()\n",
    "sm_boto3.delete_endpoint(EndpointName=model_endpoint)"
   ]
  },
  {
   "cell_type": "code",
   "execution_count": 1,
   "metadata": {},
   "outputs": [
    {
     "name": "stdout",
     "output_type": "stream",
     "text": [
      "hell\n"
     ]
    }
   ],
   "source": []
  },
  {
   "cell_type": "code",
   "execution_count": null,
   "metadata": {},
   "outputs": [],
   "source": []
  },
  {
   "cell_type": "code",
   "execution_count": null,
   "metadata": {},
   "outputs": [],
   "source": []
  }
 ],
 "metadata": {
  "kernelspec": {
   "display_name": "jupyter_kernel",
   "language": "python",
   "name": "jupyter_kernel"
  },
  "language_info": {
   "codemirror_mode": {
    "name": "ipython",
    "version": 3
   },
   "file_extension": ".py",
   "mimetype": "text/x-python",
   "name": "python",
   "nbconvert_exporter": "python",
   "pygments_lexer": "ipython3",
   "version": "3.10.14"
  }
 },
 "nbformat": 4,
 "nbformat_minor": 2
}
